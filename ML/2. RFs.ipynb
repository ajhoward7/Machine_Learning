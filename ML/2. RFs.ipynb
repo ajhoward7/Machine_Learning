{
 "cells": [
  {
   "cell_type": "markdown",
   "metadata": {},
   "source": [
    "# 2. Intro to Random Forests"
   ]
  },
  {
   "cell_type": "markdown",
   "metadata": {},
   "source": [
    "**Initialization:**"
   ]
  },
  {
   "cell_type": "code",
   "execution_count": 1,
   "metadata": {
    "collapsed": true
   },
   "outputs": [],
   "source": [
    "%load_ext autoreload\n",
    "%autoreload 2\n",
    "\n",
    "%matplotlib inline\n",
    "\n",
    "from fastai.imports import * # fastai.imports imports range of different libraries e.g. pandas\n",
    "from fastai.structured import *\n",
    "\n",
    "from pandas_summary import DataFrameSummary\n",
    "from sklearn.ensemble import RandomForestRegressor, RandomForestClassifier # Random Forest Class's we'll use.\n",
    "from IPython.display import display\n",
    "\n",
    "from sklearn import metrics"
   ]
  },
  {
   "cell_type": "markdown",
   "metadata": {},
   "source": [
    "## Preparing Data"
   ]
  },
  {
   "cell_type": "markdown",
   "metadata": {},
   "source": [
    "For building our first Random Forest model, we will use the Kaggle Bulldozers dataset, as with the first notebook."
   ]
  },
  {
   "cell_type": "code",
   "execution_count": 38,
   "metadata": {
    "collapsed": true
   },
   "outputs": [],
   "source": [
    "df_raw = pd.read_feather('~/tmp/raw')"
   ]
  },
  {
   "cell_type": "markdown",
   "metadata": {},
   "source": [
    "Processing the DF:"
   ]
  },
  {
   "cell_type": "code",
   "execution_count": 39,
   "metadata": {
    "collapsed": true
   },
   "outputs": [],
   "source": [
    "df, y = proc_df(df_raw, 'SalePrice')"
   ]
  },
  {
   "cell_type": "code",
   "execution_count": 22,
   "metadata": {},
   "outputs": [
    {
     "data": {
      "text/plain": [
       "<function fastai.structured.proc_df>"
      ]
     },
     "execution_count": 22,
     "metadata": {},
     "output_type": "execute_result"
    }
   ],
   "source": [
    "proc_df"
   ]
  },
  {
   "cell_type": "markdown",
   "metadata": {},
   "source": [
    "Within this function we are achieving the following:\n",
    "1. Separating our model features, X, from the response, y.\n",
    "2. For any columns with missing values, a dummy variable with Booleans is created to reflect this.\n",
    "3. Any missing numerical values are imputed with the median (categories are assigned to -1 by pandas).\n",
    "4. Each category is replaced by the numeric code (+ 1, so the base is 0)."
   ]
  },
  {
   "cell_type": "markdown",
   "metadata": {},
   "source": [
    "Notice the additional columns:"
   ]
  },
  {
   "cell_type": "code",
   "execution_count": 23,
   "metadata": {},
   "outputs": [
    {
     "data": {
      "text/plain": [
       "Index(['SalesID', 'MachineID', 'ModelID', 'datasource', 'auctioneerID',\n",
       "       'YearMade', 'MachineHoursCurrentMeter', 'UsageBand', 'fiModelDesc',\n",
       "       'fiBaseModel', 'fiSecondaryDesc', 'fiModelSeries', 'fiModelDescriptor',\n",
       "       'ProductSize', 'fiProductClassDesc', 'state', 'ProductGroup',\n",
       "       'ProductGroupDesc', 'Drive_System', 'Enclosure', 'Forks', 'Pad_Type',\n",
       "       'Ride_Control', 'Stick', 'Transmission', 'Turbocharged',\n",
       "       'Blade_Extension', 'Blade_Width', 'Enclosure_Type', 'Engine_Horsepower',\n",
       "       'Hydraulics', 'Pushblock', 'Ripper', 'Scarifier', 'Tip_Control',\n",
       "       'Tire_Size', 'Coupler', 'Coupler_System', 'Grouser_Tracks',\n",
       "       'Hydraulics_Flow', 'Track_Type', 'Undercarriage_Pad_Width',\n",
       "       'Stick_Length', 'Thumb', 'Pattern_Changer', 'Grouser_Type',\n",
       "       'Backhoe_Mounting', 'Blade_Type', 'Travel_Controls',\n",
       "       'Differential_Type', 'Steering_Controls', 'saleYear', 'saleMonth',\n",
       "       'saleWeek', 'saleDay', 'saleDayofweek', 'saleDayofyear',\n",
       "       'saleIs_month_end', 'saleIs_month_start', 'saleIs_quarter_end',\n",
       "       'saleIs_quarter_start', 'saleIs_year_end', 'saleIs_year_start',\n",
       "       'saleElapsed', 'auctioneerID_na', 'MachineHoursCurrentMeter_na'],\n",
       "      dtype='object')"
      ]
     },
     "execution_count": 23,
     "metadata": {},
     "output_type": "execute_result"
    }
   ],
   "source": [
    "df.columns"
   ]
  },
  {
   "cell_type": "markdown",
   "metadata": {},
   "source": [
    "## Initial Model"
   ]
  },
  {
   "cell_type": "code",
   "execution_count": 24,
   "metadata": {},
   "outputs": [
    {
     "data": {
      "text/plain": [
       "RandomForestRegressor(bootstrap=True, criterion='mse', max_depth=None,\n",
       "           max_features='auto', max_leaf_nodes=None,\n",
       "           min_impurity_decrease=0.0, min_impurity_split=None,\n",
       "           min_samples_leaf=1, min_samples_split=2,\n",
       "           min_weight_fraction_leaf=0.0, n_estimators=10, n_jobs=-1,\n",
       "           oob_score=False, random_state=None, verbose=0, warm_start=False)"
      ]
     },
     "execution_count": 24,
     "metadata": {},
     "output_type": "execute_result"
    }
   ],
   "source": [
    "m = RandomForestRegressor(n_jobs = -1)\n",
    "m.fit(df,y)"
   ]
  },
  {
   "cell_type": "markdown",
   "metadata": {},
   "source": [
    "Note: `n_jobs = -1` requires computer to parallelize"
   ]
  },
  {
   "cell_type": "code",
   "execution_count": 25,
   "metadata": {},
   "outputs": [
    {
     "data": {
      "text/plain": [
       "0.95833523751433936"
      ]
     },
     "execution_count": 25,
     "metadata": {},
     "output_type": "execute_result"
    }
   ],
   "source": [
    "m.score(df,y)"
   ]
  },
  {
   "cell_type": "markdown",
   "metadata": {},
   "source": [
    "## Testing the Fit"
   ]
  },
  {
   "cell_type": "markdown",
   "metadata": {},
   "source": [
    "**$R^2$ value:**"
   ]
  },
  {
   "cell_type": "markdown",
   "metadata": {},
   "source": [
    "The $R^2$ value is a common metric for assessing model fit. This metric represents the proportion of sample variance we have encapsulated in our model."
   ]
  },
  {
   "cell_type": "markdown",
   "metadata": {},
   "source": [
    "$$ R^2 = 1 - \\frac{SS_{res}}{SS_{tot}} $$\n",
    "\n",
    "$SS_{res}$ : MSE of fitted values of the model  \n",
    "$SS_{tot}$ : MSE around mean value"
   ]
  },
  {
   "cell_type": "markdown",
   "metadata": {},
   "source": [
    "In particular, $ R^2 \\in (- \\infty,1) $"
   ]
  },
  {
   "cell_type": "markdown",
   "metadata": {},
   "source": [
    "$R^2 = 1$ means we perfectly fit our model to the data, whereas $R^2 < 0$ means our model is fitting more poorly than if we instead imputed the mean value."
   ]
  },
  {
   "cell_type": "markdown",
   "metadata": {},
   "source": [
    "However, the $R^2$ value is not necessarily indicative of a good model - we may instead have over-fitting to the data with a higher variance (see bias-variance trade-off). To fully assess our model, we must leverage validation sets.\n",
    "\n",
    "At this point, let's make a key distinction:\n",
    "- Validation Sets: used to repeatedly test our model throughout the building process.\n",
    "- Hold-Out Test Set: portion of the data which we leave entirely alone until assessing the accuracy of our final model"
   ]
  },
  {
   "cell_type": "markdown",
   "metadata": {},
   "source": [
    "**Constructing a Validation Sets:**"
   ]
  },
  {
   "cell_type": "code",
   "execution_count": 43,
   "metadata": {},
   "outputs": [],
   "source": [
    "def split_vals(a,n): return a[:n].copy(), a[n:].copy()\n",
    "\n",
    "n_valid = 12000  # Specify validation set size\n",
    "n_trn = len(df)-n_valid # Resulting train set size\n",
    "raw_train, raw_valid = split_vals(df_raw, n_trn)\n",
    "X_train, X_valid = split_vals(df, n_trn)\n",
    "y_train, y_valid = split_vals(y, n_trn)\n",
    "\n",
    "# Training data: X_train\n",
    "# Training response: y_train\n",
    "\n",
    "# Validation set: X_valid"
   ]
  },
  {
   "cell_type": "markdown",
   "metadata": {},
   "source": [
    "Note that within this splitting function we are not even attempting to take a \"random\" sample, we instead take the first number of rows from the DF. In this case, we do this because the rows are ordered in time, and we hope to see that any Time-Series affects are encapsulated in our model and therefore give good predictions for a different timeframe in the validation set."
   ]
  },
  {
   "cell_type": "markdown",
   "metadata": {},
   "source": [
    "**Defining Model Score:**"
   ]
  },
  {
   "cell_type": "code",
   "execution_count": 44,
   "metadata": {
    "collapsed": true
   },
   "outputs": [],
   "source": [
    "def rmse(x,y): return math.sqrt(((x-y)**2).mean()) # Loss function as per Kaggle\n",
    "\n",
    "def print_score(m):\n",
    "    res = [rmse(m.predict(X_train), y_train), rmse(m.predict(X_valid), y_valid),\n",
    "                m.score(X_train, y_train), m.score(X_valid, y_valid)]\n",
    "    if hasattr(m, 'oob_score_'): res.append(m.oob_score_)\n",
    "    print(res)"
   ]
  },
  {
   "cell_type": "code",
   "execution_count": 45,
   "metadata": {},
   "outputs": [
    {
     "name": "stdout",
     "output_type": "stream",
     "text": [
      "[0.09049292526390244, 0.2494728650644334, 0.97648551364996516, 0.88885380401561609]\n"
     ]
    }
   ],
   "source": [
    "RF = RandomForestRegressor(n_jobs = -1)\n",
    "RF.fit(X_train, y_train)\n",
    "print_score(RF)"
   ]
  },
  {
   "cell_type": "markdown",
   "metadata": {},
   "source": [
    "So for our initial model we find:\n",
    "- RMSE on Training Set = 0.09\n",
    "- RMSE on Validation Set = 0.25\n",
    "- $R^2$ on Training Set = 0.98\n",
    "- $R^2$ on Validation Set = 0.89"
   ]
  },
  {
   "cell_type": "markdown",
   "metadata": {},
   "source": [
    "## Scaling Down the Model"
   ]
  },
  {
   "cell_type": "markdown",
   "metadata": {},
   "source": [
    "To be able to play around with our model, we want to work with a smaller sample of the data, so we can run the model quickly:"
   ]
  },
  {
   "cell_type": "code",
   "execution_count": 55,
   "metadata": {
    "collapsed": true
   },
   "outputs": [],
   "source": [
    "df_trn, y_trn = proc_df(df_raw, 'SalePrice', subset=30000)\n",
    "X_train, _ = split_vals(df_trn, 20000)\n",
    "y_train, _ = split_vals(y_trn, 20000)"
   ]
  },
  {
   "cell_type": "code",
   "execution_count": 56,
   "metadata": {},
   "outputs": [
    {
     "name": "stdout",
     "output_type": "stream",
     "text": [
      "CPU times: user 4.2 s, sys: 73.7 ms, total: 4.27 s\n",
      "Wall time: 1.81 s\n",
      "[0.11848198108620098, 0.2806224388251803, 0.9711066848014539, 0.85936521184841808]\n"
     ]
    }
   ],
   "source": [
    "m = RandomForestRegressor(n_jobs=-1)\n",
    "%time m.fit(X_train, y_train)\n",
    "print_score(m)"
   ]
  },
  {
   "cell_type": "markdown",
   "metadata": {},
   "source": [
    "So our results are a bit worse, but we processed much quicker."
   ]
  },
  {
   "cell_type": "markdown",
   "metadata": {},
   "source": [
    "## Understanding Random Forests"
   ]
  },
  {
   "cell_type": "markdown",
   "metadata": {},
   "source": [
    "Let's first draw a diagram to visually see the process:"
   ]
  },
  {
   "cell_type": "code",
   "execution_count": 57,
   "metadata": {},
   "outputs": [
    {
     "data": {
      "text/plain": [
       "RandomForestRegressor(bootstrap=False, criterion='mse', max_depth=3,\n",
       "           max_features='auto', max_leaf_nodes=None,\n",
       "           min_impurity_decrease=0.0, min_impurity_split=None,\n",
       "           min_samples_leaf=1, min_samples_split=2,\n",
       "           min_weight_fraction_leaf=0.0, n_estimators=1, n_jobs=-1,\n",
       "           oob_score=False, random_state=None, verbose=0, warm_start=False)"
      ]
     },
     "execution_count": 57,
     "metadata": {},
     "output_type": "execute_result"
    }
   ],
   "source": [
    "RF_2 = RandomForestRegressor(n_jobs = -1, n_estimators = 1, max_depth = 3, bootstrap = False)\n",
    "RF_2.fit(X_train, y_train)"
   ]
  },
  {
   "cell_type": "code",
   "execution_count": 58,
   "metadata": {},
   "outputs": [
    {
     "data": {
      "image/svg+xml": [
       "<?xml version=\"1.0\" encoding=\"UTF-8\" standalone=\"no\"?>\n",
       "<!DOCTYPE svg PUBLIC \"-//W3C//DTD SVG 1.1//EN\"\n",
       " \"http://www.w3.org/Graphics/SVG/1.1/DTD/svg11.dtd\">\n",
       "<!-- Generated by graphviz version 2.40.1 (20161225.0304)\n",
       " -->\n",
       "<!-- Title: Tree Pages: 1 -->\n",
       "<svg width=\"720pt\" height=\"434pt\"\n",
       " viewBox=\"0.00 0.00 720.00 434.45\" xmlns=\"http://www.w3.org/2000/svg\" xmlns:xlink=\"http://www.w3.org/1999/xlink\">\n",
       "<g id=\"graph0\" class=\"graph\" transform=\"scale(.8136 .8136) rotate(0) translate(4 530)\">\n",
       "<title>Tree</title>\n",
       "<polygon fill=\"#ffffff\" stroke=\"transparent\" points=\"-4,4 -4,-530 880.9719,-530 880.9719,4 -4,4\"/>\n",
       "<!-- 0 -->\n",
       "<g id=\"node1\" class=\"node\">\n",
       "<title>0</title>\n",
       "<polygon fill=\"#e58139\" fill-opacity=\"0.701961\" stroke=\"#000000\" points=\"166.4874,-322 25.4565,-322 25.4565,-258 166.4874,-258 166.4874,-322\"/>\n",
       "<text text-anchor=\"start\" x=\"33.2146\" y=\"-306.8\" font-family=\"Times,serif\" font-size=\"14.00\" fill=\"#000000\">Coupler_System ≤ 0.0</text>\n",
       "<text text-anchor=\"start\" x=\"68.4983\" y=\"-292.8\" font-family=\"Times,serif\" font-size=\"14.00\" fill=\"#000000\">mse = 0.0</text>\n",
       "<text text-anchor=\"start\" x=\"48.4724\" y=\"-278.8\" font-family=\"Times,serif\" font-size=\"14.00\" fill=\"#000000\">samples = 20000</text>\n",
       "<text text-anchor=\"start\" x=\"61.1155\" y=\"-264.8\" font-family=\"Times,serif\" font-size=\"14.00\" fill=\"#000000\">value = 10.0</text>\n",
       "</g>\n",
       "<!-- 1 -->\n",
       "<g id=\"node2\" class=\"node\">\n",
       "<title>1</title>\n",
       "<polygon fill=\"#e58139\" fill-opacity=\"0.768627\" stroke=\"#000000\" points=\"391.3373,-356 264.6066,-356 264.6066,-292 391.3373,-292 391.3373,-356\"/>\n",
       "<text text-anchor=\"start\" x=\"272.5393\" y=\"-340.8\" font-family=\"Times,serif\" font-size=\"14.00\" fill=\"#000000\">YearMade ≤ 1990.0</text>\n",
       "<text text-anchor=\"start\" x=\"300.4983\" y=\"-326.8\" font-family=\"Times,serif\" font-size=\"14.00\" fill=\"#000000\">mse = 0.0</text>\n",
       "<text text-anchor=\"start\" x=\"280.4724\" y=\"-312.8\" font-family=\"Times,serif\" font-size=\"14.00\" fill=\"#000000\">samples = 17789</text>\n",
       "<text text-anchor=\"start\" x=\"293.1155\" y=\"-298.8\" font-family=\"Times,serif\" font-size=\"14.00\" fill=\"#000000\">value = 10.0</text>\n",
       "</g>\n",
       "<!-- 0&#45;&gt;1 -->\n",
       "<g id=\"edge1\" class=\"edge\">\n",
       "<title>0&#45;&gt;1</title>\n",
       "<path fill=\"none\" stroke=\"#000000\" d=\"M166.5245,-300.3396C194.3076,-304.4113 226.2221,-309.0884 254.3015,-313.2035\"/>\n",
       "<polygon fill=\"#000000\" stroke=\"#000000\" points=\"254.0565,-316.7049 264.4583,-314.692 255.0715,-309.7788 254.0565,-316.7049\"/>\n",
       "<text text-anchor=\"middle\" x=\"244.4042\" y=\"-325.4195\" font-family=\"Times,serif\" font-size=\"14.00\" fill=\"#000000\">True</text>\n",
       "</g>\n",
       "<!-- 8 -->\n",
       "<g id=\"node9\" class=\"node\">\n",
       "<title>8</title>\n",
       "<polygon fill=\"#e58139\" fill-opacity=\"0.145098\" stroke=\"#000000\" points=\"391.3373,-234 264.6066,-234 264.6066,-170 391.3373,-170 391.3373,-234\"/>\n",
       "<text text-anchor=\"start\" x=\"272.5393\" y=\"-218.8\" font-family=\"Times,serif\" font-size=\"14.00\" fill=\"#000000\">YearMade ≤ 2000.0</text>\n",
       "<text text-anchor=\"start\" x=\"300.4983\" y=\"-204.8\" font-family=\"Times,serif\" font-size=\"14.00\" fill=\"#000000\">mse = 0.0</text>\n",
       "<text text-anchor=\"start\" x=\"284.2288\" y=\"-190.8\" font-family=\"Times,serif\" font-size=\"14.00\" fill=\"#000000\">samples = 2211</text>\n",
       "<text text-anchor=\"start\" x=\"296.6155\" y=\"-176.8\" font-family=\"Times,serif\" font-size=\"14.00\" fill=\"#000000\">value = 9.0</text>\n",
       "</g>\n",
       "<!-- 0&#45;&gt;8 -->\n",
       "<g id=\"edge8\" class=\"edge\">\n",
       "<title>0&#45;&gt;8</title>\n",
       "<path fill=\"none\" stroke=\"#000000\" d=\"M166.5245,-263.2387C194.5513,-252.6078 226.7823,-240.3823 255.0396,-229.664\"/>\n",
       "<polygon fill=\"#000000\" stroke=\"#000000\" points=\"256.3496,-232.9105 264.4583,-226.0914 253.867,-226.3655 256.3496,-232.9105\"/>\n",
       "<text text-anchor=\"middle\" x=\"241.6603\" y=\"-211.6323\" font-family=\"Times,serif\" font-size=\"14.00\" fill=\"#000000\">False</text>\n",
       "</g>\n",
       "<!-- 2 -->\n",
       "<g id=\"node3\" class=\"node\">\n",
       "<title>2</title>\n",
       "<polygon fill=\"#e58139\" fill-opacity=\"0.611765\" stroke=\"#000000\" points=\"634.9808,-465 514.9631,-465 514.9631,-401 634.9808,-401 634.9808,-465\"/>\n",
       "<text text-anchor=\"start\" x=\"522.718\" y=\"-449.8\" font-family=\"Times,serif\" font-size=\"14.00\" fill=\"#000000\">ModelID ≤ 4520.0</text>\n",
       "<text text-anchor=\"start\" x=\"547.4983\" y=\"-435.8\" font-family=\"Times,serif\" font-size=\"14.00\" fill=\"#000000\">mse = 0.0</text>\n",
       "<text text-anchor=\"start\" x=\"530.9724\" y=\"-421.8\" font-family=\"Times,serif\" font-size=\"14.00\" fill=\"#000000\">samples = 7393</text>\n",
       "<text text-anchor=\"start\" x=\"540.1155\" y=\"-407.8\" font-family=\"Times,serif\" font-size=\"14.00\" fill=\"#000000\">value = 10.0</text>\n",
       "</g>\n",
       "<!-- 1&#45;&gt;2 -->\n",
       "<g id=\"edge2\" class=\"edge\">\n",
       "<title>1&#45;&gt;2</title>\n",
       "<path fill=\"none\" stroke=\"#000000\" d=\"M391.5806,-352.0702C426.352,-367.4147 469.4808,-386.4472 505.1763,-402.1995\"/>\n",
       "<polygon fill=\"#000000\" stroke=\"#000000\" points=\"503.9945,-405.5036 514.5564,-406.3389 506.8207,-399.0994 503.9945,-405.5036\"/>\n",
       "</g>\n",
       "<!-- 5 -->\n",
       "<g id=\"node6\" class=\"node\">\n",
       "<title>5</title>\n",
       "<polygon fill=\"#e58139\" fill-opacity=\"0.882353\" stroke=\"#000000\" points=\"657.3177,-356 492.6262,-356 492.6262,-292 657.3177,-292 657.3177,-356\"/>\n",
       "<text text-anchor=\"start\" x=\"500.5491\" y=\"-340.8\" font-family=\"Times,serif\" font-size=\"14.00\" fill=\"#000000\">fiProductClassDesc ≤ 14.0</text>\n",
       "<text text-anchor=\"start\" x=\"547.4983\" y=\"-326.8\" font-family=\"Times,serif\" font-size=\"14.00\" fill=\"#000000\">mse = 0.0</text>\n",
       "<text text-anchor=\"start\" x=\"527.4724\" y=\"-312.8\" font-family=\"Times,serif\" font-size=\"14.00\" fill=\"#000000\">samples = 10396</text>\n",
       "<text text-anchor=\"start\" x=\"540.1155\" y=\"-298.8\" font-family=\"Times,serif\" font-size=\"14.00\" fill=\"#000000\">value = 10.0</text>\n",
       "</g>\n",
       "<!-- 1&#45;&gt;5 -->\n",
       "<g id=\"edge5\" class=\"edge\">\n",
       "<title>1&#45;&gt;5</title>\n",
       "<path fill=\"none\" stroke=\"#000000\" d=\"M391.5806,-324C419.1911,-324 452.0713,-324 482.3149,-324\"/>\n",
       "<polygon fill=\"#000000\" stroke=\"#000000\" points=\"482.459,-327.5001 492.459,-324 482.4589,-320.5001 482.459,-327.5001\"/>\n",
       "</g>\n",
       "<!-- 3 -->\n",
       "<g id=\"node4\" class=\"node\">\n",
       "<title>3</title>\n",
       "<polygon fill=\"#e58139\" fill-opacity=\"0.752941\" stroke=\"#000000\" points=\"857.971,-526 753.9729,-526 753.9729,-476 857.971,-476 857.971,-526\"/>\n",
       "<text text-anchor=\"start\" x=\"778.4983\" y=\"-510.8\" font-family=\"Times,serif\" font-size=\"14.00\" fill=\"#000000\">mse = 0.0</text>\n",
       "<text text-anchor=\"start\" x=\"761.9724\" y=\"-496.8\" font-family=\"Times,serif\" font-size=\"14.00\" fill=\"#000000\">samples = 3776</text>\n",
       "<text text-anchor=\"start\" x=\"771.1155\" y=\"-482.8\" font-family=\"Times,serif\" font-size=\"14.00\" fill=\"#000000\">value = 10.0</text>\n",
       "</g>\n",
       "<!-- 2&#45;&gt;3 -->\n",
       "<g id=\"edge3\" class=\"edge\">\n",
       "<title>2&#45;&gt;3</title>\n",
       "<path fill=\"none\" stroke=\"#000000\" d=\"M635.0615,-450.6887C668.5207,-460.5381 710.1104,-472.781 743.8853,-482.7234\"/>\n",
       "<polygon fill=\"#000000\" stroke=\"#000000\" points=\"743.0622,-486.1295 753.6436,-485.596 745.039,-479.4144 743.0622,-486.1295\"/>\n",
       "</g>\n",
       "<!-- 4 -->\n",
       "<g id=\"node5\" class=\"node\">\n",
       "<title>4</title>\n",
       "<polygon fill=\"#e58139\" fill-opacity=\"0.462745\" stroke=\"#000000\" points=\"857.971,-458 753.9729,-458 753.9729,-408 857.971,-408 857.971,-458\"/>\n",
       "<text text-anchor=\"start\" x=\"778.4983\" y=\"-442.8\" font-family=\"Times,serif\" font-size=\"14.00\" fill=\"#000000\">mse = 0.0</text>\n",
       "<text text-anchor=\"start\" x=\"761.9724\" y=\"-428.8\" font-family=\"Times,serif\" font-size=\"14.00\" fill=\"#000000\">samples = 3617</text>\n",
       "<text text-anchor=\"start\" x=\"771.1155\" y=\"-414.8\" font-family=\"Times,serif\" font-size=\"14.00\" fill=\"#000000\">value = 10.0</text>\n",
       "</g>\n",
       "<!-- 2&#45;&gt;4 -->\n",
       "<g id=\"edge4\" class=\"edge\">\n",
       "<title>2&#45;&gt;4</title>\n",
       "<path fill=\"none\" stroke=\"#000000\" d=\"M635.0615,-433C668.3771,-433 709.7535,-433 743.45,-433\"/>\n",
       "<polygon fill=\"#000000\" stroke=\"#000000\" points=\"743.6436,-436.5001 753.6436,-433 743.6435,-429.5001 743.6436,-436.5001\"/>\n",
       "</g>\n",
       "<!-- 6 -->\n",
       "<g id=\"node7\" class=\"node\">\n",
       "<title>6</title>\n",
       "<polygon fill=\"#e58139\" fill-opacity=\"0.698039\" stroke=\"#000000\" points=\"857.971,-390 753.9729,-390 753.9729,-340 857.971,-340 857.971,-390\"/>\n",
       "<text text-anchor=\"start\" x=\"778.4983\" y=\"-374.8\" font-family=\"Times,serif\" font-size=\"14.00\" fill=\"#000000\">mse = 0.0</text>\n",
       "<text text-anchor=\"start\" x=\"761.9724\" y=\"-360.8\" font-family=\"Times,serif\" font-size=\"14.00\" fill=\"#000000\">samples = 4098</text>\n",
       "<text text-anchor=\"start\" x=\"771.1155\" y=\"-346.8\" font-family=\"Times,serif\" font-size=\"14.00\" fill=\"#000000\">value = 10.0</text>\n",
       "</g>\n",
       "<!-- 5&#45;&gt;6 -->\n",
       "<g id=\"edge6\" class=\"edge\">\n",
       "<title>5&#45;&gt;6</title>\n",
       "<path fill=\"none\" stroke=\"#000000\" d=\"M657.3899,-338.6283C685.8832,-343.6855 717.31,-349.2635 743.8942,-353.9819\"/>\n",
       "<polygon fill=\"#000000\" stroke=\"#000000\" points=\"743.3717,-357.4438 753.8295,-355.7453 744.5951,-350.5515 743.3717,-357.4438\"/>\n",
       "</g>\n",
       "<!-- 7 -->\n",
       "<g id=\"node8\" class=\"node\">\n",
       "<title>7</title>\n",
       "<polygon fill=\"#e58139\" stroke=\"#000000\" points=\"857.971,-322 753.9729,-322 753.9729,-272 857.971,-272 857.971,-322\"/>\n",
       "<text text-anchor=\"start\" x=\"778.4983\" y=\"-306.8\" font-family=\"Times,serif\" font-size=\"14.00\" fill=\"#000000\">mse = 0.0</text>\n",
       "<text text-anchor=\"start\" x=\"761.9724\" y=\"-292.8\" font-family=\"Times,serif\" font-size=\"14.00\" fill=\"#000000\">samples = 6298</text>\n",
       "<text text-anchor=\"start\" x=\"771.3719\" y=\"-278.8\" font-family=\"Times,serif\" font-size=\"14.00\" fill=\"#000000\">value = 11.0</text>\n",
       "</g>\n",
       "<!-- 5&#45;&gt;7 -->\n",
       "<g id=\"edge7\" class=\"edge\">\n",
       "<title>5&#45;&gt;7</title>\n",
       "<path fill=\"none\" stroke=\"#000000\" d=\"M657.3899,-314.3667C685.8832,-311.0363 717.31,-307.3631 743.8942,-304.2558\"/>\n",
       "<polygon fill=\"#000000\" stroke=\"#000000\" points=\"744.3035,-307.7319 753.8295,-303.0946 743.4908,-300.7793 744.3035,-307.7319\"/>\n",
       "</g>\n",
       "<!-- 9 -->\n",
       "<g id=\"node10\" class=\"node\">\n",
       "<title>9</title>\n",
       "<polygon fill=\"#e58139\" fill-opacity=\"0.047059\" stroke=\"#000000\" points=\"657.3177,-234 492.6262,-234 492.6262,-170 657.3177,-170 657.3177,-234\"/>\n",
       "<text text-anchor=\"start\" x=\"500.5491\" y=\"-218.8\" font-family=\"Times,serif\" font-size=\"14.00\" fill=\"#000000\">fiProductClassDesc ≤ 40.0</text>\n",
       "<text text-anchor=\"start\" x=\"547.4983\" y=\"-204.8\" font-family=\"Times,serif\" font-size=\"14.00\" fill=\"#000000\">mse = 0.0</text>\n",
       "<text text-anchor=\"start\" x=\"530.9724\" y=\"-190.8\" font-family=\"Times,serif\" font-size=\"14.00\" fill=\"#000000\">samples = 1092</text>\n",
       "<text text-anchor=\"start\" x=\"543.6155\" y=\"-176.8\" font-family=\"Times,serif\" font-size=\"14.00\" fill=\"#000000\">value = 9.0</text>\n",
       "</g>\n",
       "<!-- 8&#45;&gt;9 -->\n",
       "<g id=\"edge9\" class=\"edge\">\n",
       "<title>8&#45;&gt;9</title>\n",
       "<path fill=\"none\" stroke=\"#000000\" d=\"M391.5806,-202C419.1911,-202 452.0713,-202 482.3149,-202\"/>\n",
       "<polygon fill=\"#000000\" stroke=\"#000000\" points=\"482.459,-205.5001 492.459,-202 482.4589,-198.5001 482.459,-205.5001\"/>\n",
       "</g>\n",
       "<!-- 12 -->\n",
       "<g id=\"node13\" class=\"node\">\n",
       "<title>12</title>\n",
       "<polygon fill=\"#e58139\" fill-opacity=\"0.243137\" stroke=\"#000000\" points=\"651.9075,-125 498.0364,-125 498.0364,-61 651.9075,-61 651.9075,-125\"/>\n",
       "<text text-anchor=\"start\" x=\"506.0042\" y=\"-109.8\" font-family=\"Times,serif\" font-size=\"14.00\" fill=\"#000000\">MachineID ≤ 1032812.0</text>\n",
       "<text text-anchor=\"start\" x=\"547.4983\" y=\"-95.8\" font-family=\"Times,serif\" font-size=\"14.00\" fill=\"#000000\">mse = 0.0</text>\n",
       "<text text-anchor=\"start\" x=\"531.4851\" y=\"-81.8\" font-family=\"Times,serif\" font-size=\"14.00\" fill=\"#000000\">samples = 1119</text>\n",
       "<text text-anchor=\"start\" x=\"543.6155\" y=\"-67.8\" font-family=\"Times,serif\" font-size=\"14.00\" fill=\"#000000\">value = 9.0</text>\n",
       "</g>\n",
       "<!-- 8&#45;&gt;12 -->\n",
       "<g id=\"edge12\" class=\"edge\">\n",
       "<title>8&#45;&gt;12</title>\n",
       "<path fill=\"none\" stroke=\"#000000\" d=\"M391.5806,-173.9298C422.5457,-160.265 460.1387,-143.6754 493.2075,-129.0823\"/>\n",
       "<polygon fill=\"#000000\" stroke=\"#000000\" points=\"494.6696,-132.2628 502.4053,-125.0233 491.8434,-125.8586 494.6696,-132.2628\"/>\n",
       "</g>\n",
       "<!-- 10 -->\n",
       "<g id=\"node11\" class=\"node\">\n",
       "<title>10</title>\n",
       "<polygon fill=\"transparent\" stroke=\"#000000\" points=\"854.471,-254 757.4729,-254 757.4729,-204 854.471,-204 854.471,-254\"/>\n",
       "<text text-anchor=\"start\" x=\"778.4983\" y=\"-238.8\" font-family=\"Times,serif\" font-size=\"14.00\" fill=\"#000000\">mse = 0.0</text>\n",
       "<text text-anchor=\"start\" x=\"765.4724\" y=\"-224.8\" font-family=\"Times,serif\" font-size=\"14.00\" fill=\"#000000\">samples = 547</text>\n",
       "<text text-anchor=\"start\" x=\"774.6155\" y=\"-210.8\" font-family=\"Times,serif\" font-size=\"14.00\" fill=\"#000000\">value = 9.0</text>\n",
       "</g>\n",
       "<!-- 9&#45;&gt;10 -->\n",
       "<g id=\"edge10\" class=\"edge\">\n",
       "<title>9&#45;&gt;10</title>\n",
       "<path fill=\"none\" stroke=\"#000000\" d=\"M657.3899,-211.6333C687.0321,-215.0979 719.8492,-218.9337 747.0859,-222.1172\"/>\n",
       "<polygon fill=\"#000000\" stroke=\"#000000\" points=\"746.8944,-225.6186 757.2331,-223.3033 747.7071,-218.6659 746.8944,-225.6186\"/>\n",
       "</g>\n",
       "<!-- 11 -->\n",
       "<g id=\"node12\" class=\"node\">\n",
       "<title>11</title>\n",
       "<polygon fill=\"#e58139\" fill-opacity=\"0.094118\" stroke=\"#000000\" points=\"854.471,-186 757.4729,-186 757.4729,-136 854.471,-136 854.471,-186\"/>\n",
       "<text text-anchor=\"start\" x=\"778.4983\" y=\"-170.8\" font-family=\"Times,serif\" font-size=\"14.00\" fill=\"#000000\">mse = 0.0</text>\n",
       "<text text-anchor=\"start\" x=\"765.4724\" y=\"-156.8\" font-family=\"Times,serif\" font-size=\"14.00\" fill=\"#000000\">samples = 545</text>\n",
       "<text text-anchor=\"start\" x=\"774.6155\" y=\"-142.8\" font-family=\"Times,serif\" font-size=\"14.00\" fill=\"#000000\">value = 9.0</text>\n",
       "</g>\n",
       "<!-- 9&#45;&gt;11 -->\n",
       "<g id=\"edge11\" class=\"edge\">\n",
       "<title>9&#45;&gt;11</title>\n",
       "<path fill=\"none\" stroke=\"#000000\" d=\"M657.3899,-187.3717C687.0321,-182.1105 719.8492,-176.2859 747.0859,-171.4516\"/>\n",
       "<polygon fill=\"#000000\" stroke=\"#000000\" points=\"747.9987,-174.8444 757.2331,-169.6506 746.7753,-167.9521 747.9987,-174.8444\"/>\n",
       "</g>\n",
       "<!-- 13 -->\n",
       "<g id=\"node14\" class=\"node\">\n",
       "<title>13</title>\n",
       "<polygon fill=\"#e58139\" fill-opacity=\"0.345098\" stroke=\"#000000\" points=\"854.471,-118 757.4729,-118 757.4729,-68 854.471,-68 854.471,-118\"/>\n",
       "<text text-anchor=\"start\" x=\"778.4983\" y=\"-102.8\" font-family=\"Times,serif\" font-size=\"14.00\" fill=\"#000000\">mse = 0.0</text>\n",
       "<text text-anchor=\"start\" x=\"765.4724\" y=\"-88.8\" font-family=\"Times,serif\" font-size=\"14.00\" fill=\"#000000\">samples = 258</text>\n",
       "<text text-anchor=\"start\" x=\"771.1155\" y=\"-74.8\" font-family=\"Times,serif\" font-size=\"14.00\" fill=\"#000000\">value = 10.0</text>\n",
       "</g>\n",
       "<!-- 12&#45;&gt;13 -->\n",
       "<g id=\"edge13\" class=\"edge\">\n",
       "<title>12&#45;&gt;13</title>\n",
       "<path fill=\"none\" stroke=\"#000000\" d=\"M652.2128,-93C683.1683,-93 718.2573,-93 747.0913,-93\"/>\n",
       "<polygon fill=\"#000000\" stroke=\"#000000\" points=\"747.4121,-96.5001 757.412,-93 747.412,-89.5001 747.4121,-96.5001\"/>\n",
       "</g>\n",
       "<!-- 14 -->\n",
       "<g id=\"node15\" class=\"node\">\n",
       "<title>14</title>\n",
       "<polygon fill=\"#e58139\" fill-opacity=\"0.211765\" stroke=\"#000000\" points=\"854.471,-50 757.4729,-50 757.4729,0 854.471,0 854.471,-50\"/>\n",
       "<text text-anchor=\"start\" x=\"778.4983\" y=\"-34.8\" font-family=\"Times,serif\" font-size=\"14.00\" fill=\"#000000\">mse = 0.0</text>\n",
       "<text text-anchor=\"start\" x=\"765.4724\" y=\"-20.8\" font-family=\"Times,serif\" font-size=\"14.00\" fill=\"#000000\">samples = 861</text>\n",
       "<text text-anchor=\"start\" x=\"774.6155\" y=\"-6.8\" font-family=\"Times,serif\" font-size=\"14.00\" fill=\"#000000\">value = 9.0</text>\n",
       "</g>\n",
       "<!-- 12&#45;&gt;14 -->\n",
       "<g id=\"edge14\" class=\"edge\">\n",
       "<title>12&#45;&gt;14</title>\n",
       "<path fill=\"none\" stroke=\"#000000\" d=\"M652.2128,-70.2624C683.3041,-61.11 718.5652,-50.7301 747.4703,-42.2213\"/>\n",
       "<polygon fill=\"#000000\" stroke=\"#000000\" points=\"748.8074,-45.4762 757.412,-39.2947 746.8306,-38.7611 748.8074,-45.4762\"/>\n",
       "</g>\n",
       "</g>\n",
       "</svg>\n"
      ],
      "text/plain": [
       "<graphviz.files.Source at 0x120125b00>"
      ]
     },
     "metadata": {},
     "output_type": "display_data"
    }
   ],
   "source": [
    "draw_tree(RF_2.estimators_[0], df_trn)"
   ]
  },
  {
   "cell_type": "markdown",
   "metadata": {},
   "source": [
    "**Building a single tree:**\n",
    "- At each stage, consider splitting on each possible column & column-value pair, pick the pair which minimises the MSE if we impute the mean to the remaining observations.\n",
    "- Iteratively build up the tree with a series of binary decisions, until a stopping condition is met.\n",
    "\n",
    "**Combining trees to a Random Forest:**\n",
    "- Take a small subset of the data\n",
    "- Fit a tree to this data, as above\n",
    "- Iteratively repeat with more generated samples\n",
    "\n",
    "This idea is **bagging** - creating different uncorrelated and averaging over them (an ensemble).\n",
    "\n",
    "**Hyper-parameters we can tune in our model:**\n",
    "- `n_estimators` : number of different trees we want to average over (default is 10)\n",
    "- `max_depth` : restrict depth (number of layers) of tree\n",
    "- `min_samples_leaf` : restrict minimum number of samples that are left in each leaf (Try: 1,3,5,10,25)\n",
    "- `max_features` : proportion of features to include for selection at each level of every tree (Try: 1,0.5,sqrt,log2)\n",
    "- `oob_score` : **Out of the Box Score** is a method of independently assessing the model score without needing a validation set. For this, we simply assess how the model performs with obs. that are not used to generate specific trees.\n",
    "- `bootstrap` : default is True. Bootstrapping involves sampling with replacement at each stage and helps to ensure the trees aren't correlated."
   ]
  },
  {
   "cell_type": "markdown",
   "metadata": {},
   "source": [
    "## Exploring Hyper-Parameters"
   ]
  },
  {
   "cell_type": "markdown",
   "metadata": {},
   "source": [
    "### Number of Trees:"
   ]
  },
  {
   "cell_type": "code",
   "execution_count": 59,
   "metadata": {},
   "outputs": [
    {
     "name": "stdout",
     "output_type": "stream",
     "text": [
      "[0.11832628056546725, 0.2792984388505062, 0.9711825739492167, 0.86068913449779894]\n"
     ]
    }
   ],
   "source": [
    "m = RandomForestRegressor(n_jobs=-1)\n",
    "m.fit(X_train, y_train)\n",
    "print_score(m)"
   ]
  },
  {
   "cell_type": "markdown",
   "metadata": {},
   "source": [
    "Now look at the prediction for y from each individual tree, and see how averaging over multiple trees improves our model:"
   ]
  },
  {
   "cell_type": "code",
   "execution_count": 60,
   "metadata": {},
   "outputs": [
    {
     "data": {
      "text/plain": [
       "(array([ 9.51044,  9.10498,  9.9988 ,  8.9872 ,  9.79813,  9.68034,  9.04192,  9.21034,  9.79813,  9.04782]),\n",
       " 9.4178100983531632,\n",
       " 9.1049798563183568)"
      ]
     },
     "execution_count": 60,
     "metadata": {},
     "output_type": "execute_result"
    }
   ],
   "source": [
    "preds = np.stack([t.predict(X_valid) for t in m.estimators_])\n",
    "preds[:,0], np.mean(preds[:,0]), y_valid[0]"
   ]
  },
  {
   "cell_type": "code",
   "execution_count": 61,
   "metadata": {},
   "outputs": [
    {
     "data": {
      "image/png": "[encoded data removed]",
      "text/plain": [
       "<matplotlib.figure.Figure at 0x13f4869b0>"
      ]
     },
     "metadata": {},
     "output_type": "display_data"
    }
   ],
   "source": [
    "plt.plot([metrics.r2_score(y_valid, np.mean(preds[:i+1], axis=0)) for i in range(10)]);"
   ]
  },
  {
   "cell_type": "markdown",
   "metadata": {},
   "source": [
    "So by the time we reach 10 trees, we find the $R^2$ has levelled out and adding further trees is unlikely to help much."
   ]
  },
  {
   "cell_type": "markdown",
   "metadata": {},
   "source": [
    "### Out of the Box Score:"
   ]
  },
  {
   "cell_type": "code",
   "execution_count": 62,
   "metadata": {},
   "outputs": [
    {
     "name": "stdout",
     "output_type": "stream",
     "text": [
      "[0.10157755737571945, 0.2706699532779037, 0.97876323842430069, 0.86916375543405178, 0.84754792337464124]\n"
     ]
    }
   ],
   "source": [
    "m = RandomForestRegressor(n_estimators=40, n_jobs=-1, oob_score=True)\n",
    "m.fit(X_train, y_train)\n",
    "print_score(m)"
   ]
  },
  {
   "cell_type": "markdown",
   "metadata": {},
   "source": [
    "We found an OOB $R^2$ of 0.85, similar to that for validation set."
   ]
  },
  {
   "cell_type": "markdown",
   "metadata": {},
   "source": [
    "### Sub-Sampling:"
   ]
  },
  {
   "cell_type": "code",
   "execution_count": 63,
   "metadata": {
    "collapsed": true
   },
   "outputs": [],
   "source": [
    "df_trn, y_trn = proc_df(df_raw, 'SalePrice')\n",
    "X_train, X_valid = split_vals(df_trn, n_trn)\n",
    "y_train, y_valid = split_vals(y_trn, n_trn)"
   ]
  },
  {
   "cell_type": "code",
   "execution_count": 64,
   "metadata": {
    "collapsed": true
   },
   "outputs": [],
   "source": [
    "set_rf_samples(20000)"
   ]
  },
  {
   "cell_type": "code",
   "execution_count": 69,
   "metadata": {},
   "outputs": [
    {
     "name": "stdout",
     "output_type": "stream",
     "text": [
      "CPU times: user 8.96 s, sys: 263 ms, total: 9.22 s\n",
      "Wall time: 4.01 s\n",
      "[0.251553817747227, 0.2795528408786575, 0.8585001493358505, 0.86043523327465798]\n"
     ]
    }
   ],
   "source": [
    "m = RandomForestRegressor(n_jobs=-1)\n",
    "%time m.fit(X_train, y_train)\n",
    "print_score(m)"
   ]
  },
  {
   "cell_type": "markdown",
   "metadata": {},
   "source": [
    "Clarify this: setting number of trees to within sample."
   ]
  }
 ],
 "metadata": {
  "kernelspec": {
   "display_name": "Python 3",
   "language": "python",
   "name": "python3"
  },
  "language_info": {
   "codemirror_mode": {
    "name": "ipython",
    "version": 3
   },
   "file_extension": ".py",
   "mimetype": "text/x-python",
   "name": "python",
   "nbconvert_exporter": "python",
   "pygments_lexer": "ipython3",
   "version": "3.6.2"
  }
 },
 "nbformat": 4,
 "nbformat_minor": 2
}
