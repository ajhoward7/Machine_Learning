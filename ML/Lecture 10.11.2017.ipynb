{
 "cells": [
  {
   "cell_type": "markdown",
   "metadata": {},
   "source": [
    "# Lecture 10.11.2017\n",
    "\n",
    "Generalising is perhaps the unique thing about ML -- to new datasets.\n",
    "\n",
    "## Training -- Validation -- Test Sets\n",
    "\n",
    "Be careful to overfit to test set.\n",
    "\n",
    "-- split into training, validation and test sets.\n",
    "\n",
    "Only check test at end of project.\n",
    "\n",
    "Clarification r.e. OOB score: each tree samples number of rows in DF w/ replacement. So all rows will be included in at least some trees.\n",
    "\n",
    "Note: OBB score often less than validation set score since averaging over less trees.\n",
    "\n",
    "Important that validation sets themselves aren't themselves random -- to prove generalisation of model we need to take the latest observations for validation set. \n",
    "\n",
    "Compromise -- amount of data vs. recency of data.\n",
    "\n",
    "Remember to build final model with full data after having shown resilience with validation set.\n",
    "\n",
    "Want to build a validation set that's truly representative of test set:\n",
    "- Build 5 different ML models -- check that models correlate performance on test set and validation set\n",
    "- Vary validation set until found one that's indicative of test set results\n",
    "\n",
    "**Cross-validation:** randomly shuffle data and split into `n` groups -- find scores when taking each of `n` groups as validation set independently.\n",
    "\n",
    "Pros:\n",
    "- Can use all of the data\n",
    "\n",
    "Cons:\n",
    "- Time considerations: need to run the model `n` times\n",
    "- Constructs random validation set, so all validation sets may not generalise (e.g. with temporal data)\n",
    "\n",
    "--> don't use cross-validation"
   ]
  }
 ],
 "metadata": {
  "kernelspec": {
   "display_name": "Python 3",
   "language": "python",
   "name": "python3"
  },
  "language_info": {
   "codemirror_mode": {
    "name": "ipython",
    "version": 3
   },
   "file_extension": ".py",
   "mimetype": "text/x-python",
   "name": "python",
   "nbconvert_exporter": "python",
   "pygments_lexer": "ipython3",
   "version": "3.6.3"
  }
 },
 "nbformat": 4,
 "nbformat_minor": 2
}
